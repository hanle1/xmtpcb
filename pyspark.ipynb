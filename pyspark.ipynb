{
 "cells": [
  {
   "cell_type": "code",
   "execution_count": 8,
   "metadata": {
    "collapsed": false
   },
   "outputs": [
    {
     "name": "stdout",
     "output_type": "stream",
     "text": [
      "yy\nDataFrame[continuous_var: double]\n"
     ]
    }
   ],
   "source": [
    "from pyspark import SparkContext\n",
    "from pyspark.sql import SparkSession\n",
    "from pyspark.sql import HiveContext \n",
    "\n",
    "import os\n",
    "os.environ['PYSPARK_PYTHON']='/Users/apple/anaconda3/bin/python'\n",
    "import pyspark.sql.functions as fn\n",
    "# spark://10.222.119.120:7337\n",
    "spark = SparkSession.builder.master(\"spark://10.222.119.120:7077\").appName(\"hello\").getOrCreate()\n",
    "print(\"yy\")\n",
    "sc = spark.sparkContext\n",
    "# sqlContext = HiveContext(sc) \n",
    "# my_dataframe = sqlContext.sql(\"Select * from aoi\") \n",
    "# my_dataframe.show() \n",
    "import numpy as np\n",
    "import pyspark.sql.types as typ\n",
    "import pyspark.ml.feature as ft\n",
    "\n",
    "x = np.arange(0, 100)\n",
    "x = x / 100.0 * np.pi * 4\n",
    "y = x * np.sin(x / 1.764) + 20.1234\n",
    "\n",
    "schema = typ.StructType([\n",
    "       typ.StructField('continuous_var',\n",
    "                       typ.DoubleType(),\n",
    "                       False\n",
    ") ])\n",
    "\n",
    "data = spark.createDataFrame(\n",
    "       [[float(e), ] for e in y],\n",
    "       schema=schema)\n",
    "\n",
    "discretizer = ft.QuantileDiscretizer(\n",
    "       numBuckets=5,\n",
    "       inputCol='continuous_var',\n",
    "       outputCol='discretized')\n",
    "data_discretized = discretizer.fit(data).transform(data)\n",
    "print(data)"
   ]
  },
  {
   "cell_type": "code",
   "execution_count": null,
   "metadata": {},
   "outputs": [],
   "source": []
  }
 ],
 "metadata": {
  "kernelspec": {
   "display_name": "Python 2",
   "language": "python",
   "name": "python2"
  },
  "language_info": {
   "codemirror_mode": {
    "name": "ipython",
    "version": 2
   },
   "file_extension": ".py",
   "mimetype": "text/x-python",
   "name": "python",
   "nbconvert_exporter": "python",
   "pygments_lexer": "ipython2",
   "version": "2.7.6"
  }
 },
 "nbformat": 4,
 "nbformat_minor": 0
}
