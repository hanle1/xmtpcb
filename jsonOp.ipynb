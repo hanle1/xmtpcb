{
 "cells": [
  {
   "cell_type": "code",
   "execution_count": 9,
   "metadata": {
    "collapsed": false
   },
   "outputs": [],
   "source": [
    "import json\n",
    "with open('./data/AOI-bad.json', 'r+') as f:\n",
    "    content = f.read() \n",
    "    f.seek(0, 0)\n",
    "    f.write('['+content+']')\n",
    "    f.close()"
   ]
  },
  {
   "cell_type": "code",
   "execution_count": 36,
   "metadata": {
    "collapsed": false
   },
   "outputs": [
    {
     "name": "stdout",
     "output_type": "stream",
     "text": [
      "1\n"
     ]
    }
   ],
   "source": [
    "filename = './data/AOI-bad.json'\n",
    "with open(filename) as f:\n",
    "    pop_data = json.load(f)\n",
    "    with open('./data/text-format.json', 'a') as a:\n",
    "        for pop_dict in pop_data:\n",
    "            stationCode = pop_dict['stationCode']\n",
    "            pop_dict[stationCode+'_deviceId']=pop_dict['deviceId']\n",
    "            pop_dict[stationCode+'_result']=pop_dict['result']\n",
    "            pop_dict[stationCode+'_errorCode']=pop_dict['errorCode']\n",
    "            pop_dict[stationCode+'_info']=pop_dict['info']\n",
    "            pop_dict[stationCode+'_tbTag']=pop_dict['tbTag']\n",
    "            pop_dict[stationCode+'_singleTag']=pop_dict['singleTag']\n",
    "            pop_dict[stationCode+'_workOrder']=pop_dict['workOrder']\n",
    "            pop_dict[stationCode+'_date']=pop_dict['date']\n",
    "            pop_dict[stationCode+'_time']=pop_dict['time']\n",
    "            time = pop_dict['time']\n",
    "            if (83000<int(time)<203000):\n",
    "                pop_dict['time_cnt_num'] = 1 \n",
    "            else:\n",
    "                pop_dict['time_cnt_num'] = 0\n",
    "            del pop_dict[\"deviceId\"]\n",
    "            del pop_dict[\"result\"]\n",
    "            del pop_dict[\"errorCode\"]\n",
    "            del pop_dict[\"info\"]\n",
    "            del pop_dict[\"tbTag\"]\n",
    "            del pop_dict[\"singleTag\"]\n",
    "            del pop_dict[\"workOrder\"]\n",
    "            del pop_dict[\"date\"]\n",
    "            del pop_dict[\"time\"]\n",
    "            json_str = json.dumps(pop_dict,ensure_ascii=False)\n",
    "            a.write(json_str+'\\n')\n",
    "        a.close()\n",
    "    f.close()"
   ]
  },
  {
   "cell_type": "code",
   "execution_count": 8,
   "metadata": {
    "collapsed": false
   },
   "outputs": [
    {
     "name": "stdout",
     "output_type": "stream",
     "text": [
      "hello\nhello\nhello\nhello\nhello\nhello\n"
     ]
    }
   ],
   "source": [
    "import os\n",
    "def eachFile(filepath):\n",
    "    pathDir = os.listdir(filepath)      #获取当前路径下的文件名，返回List\n",
    "    for s in pathDir:\n",
    "        newDir=os.path.join(filepath,s)     #将文件命加入到当前文件路径后面\n",
    "        if os.path.isfile(newDir) :         #如果是文件\n",
    "            if os.path.splitext(newDir)[1]==\".json\":  #判断是否是txt\n",
    "                if os.path.split(newDir)[1].split('.')[0]=='PanelCheck':\n",
    "                    print('hello')\n",
    "                else:\n",
    "                    pass\n",
    "        else:\n",
    "            eachFile(newDir)                #如果不是文件，递归这个文件夹的路径\n",
    "eachFile(\"/Users/apple/workspaces/fudan/data/MESDATA/SMT\")"
   ]
  },
  {
   "cell_type": "code",
   "execution_count": 21,
   "metadata": {},
   "outputs": [
    {
     "name": "stdout",
     "output_type": "stream",
     "text": [
      "['/Users/apple/workspaces/fudan/data/MESDATA/SMT/.DS_Store', '/Users/apple/workspaces/fudan/data/MESDATA/SMT/S02/.DS_Store', '/Users/apple/workspaces/fudan/data/MESDATA/SMT/S02/20180613-1/PanelCheck.json', '/Users/apple/workspaces/fudan/data/MESDATA/SMT/S02/20180613-1/SPI-work.json', '/Users/apple/workspaces/fudan/data/MESDATA/SMT/S02/20180613-1/SecondCheck-work.json', '/Users/apple/workspaces/fudan/data/MESDATA/SMT/S02/20180613-1/AOI-work.json', '/Users/apple/workspaces/fudan/data/MESDATA/SMT/S02/20180613-1/AOI-bad.json', '/Users/apple/workspaces/fudan/data/MESDATA/SMT/S02/20180612-2/PanelCheck.json', '/Users/apple/workspaces/fudan/data/MESDATA/SMT/S02/20180612-2/SPI-work.json', '/Users/apple/workspaces/fudan/data/MESDATA/SMT/S02/20180612-2/SecondCheck-work.json', '/Users/apple/workspaces/fudan/data/MESDATA/SMT/S02/20180612-2/AOI-work.json', '/Users/apple/workspaces/fudan/data/MESDATA/SMT/S02/20180612-2/AOI-bad.json', '/Users/apple/workspaces/fudan/data/MESDATA/SMT/S02/20180613-2/PanelCheck.json', '/Users/apple/workspaces/fudan/data/MESDATA/SMT/S02/20180613-2/SPI-work.json', '/Users/apple/workspaces/fudan/data/MESDATA/SMT/S02/20180613-2/SecondCheck-work.json', '/Users/apple/workspaces/fudan/data/MESDATA/SMT/S02/20180613-2/AOI-work.json', '/Users/apple/workspaces/fudan/data/MESDATA/SMT/S02/20180613-2/AOI-bad.json', '/Users/apple/workspaces/fudan/data/MESDATA/SMT/S07/.DS_Store', '/Users/apple/workspaces/fudan/data/MESDATA/SMT/S07/20180607-1/PanelCheck.json', '/Users/apple/workspaces/fudan/data/MESDATA/SMT/S07/20180607-1/SPI-bad.json', '/Users/apple/workspaces/fudan/data/MESDATA/SMT/S07/20180607-1/SPI-work.json', '/Users/apple/workspaces/fudan/data/MESDATA/SMT/S07/20180607-1/SecondCheck-work.json', '/Users/apple/workspaces/fudan/data/MESDATA/SMT/S07/20180607-1/AOI-work.json', '/Users/apple/workspaces/fudan/data/MESDATA/SMT/S07/20180607-1/AOI-bad.json', '/Users/apple/workspaces/fudan/data/MESDATA/SMT/S07/20180607-2/PanelCheck.json', '/Users/apple/workspaces/fudan/data/MESDATA/SMT/S07/20180607-2/SPI-bad.json', '/Users/apple/workspaces/fudan/data/MESDATA/SMT/S07/20180607-2/SPI-work.json', '/Users/apple/workspaces/fudan/data/MESDATA/SMT/S07/20180607-2/SecondCheck-work.json', '/Users/apple/workspaces/fudan/data/MESDATA/SMT/S07/20180607-2/AOI-work.json', '/Users/apple/workspaces/fudan/data/MESDATA/SMT/S07/20180607-2/AOI-bad.json', '/Users/apple/workspaces/fudan/data/MESDATA/SMT/S07/20180608-1/PanelCheck.json', '/Users/apple/workspaces/fudan/data/MESDATA/SMT/S07/20180608-1/SPI-bad.json', '/Users/apple/workspaces/fudan/data/MESDATA/SMT/S07/20180608-1/SPI-work.json', '/Users/apple/workspaces/fudan/data/MESDATA/SMT/S07/20180608-1/SecondCheck-work.json', '/Users/apple/workspaces/fudan/data/MESDATA/SMT/S07/20180608-1/AOI-work.json', '/Users/apple/workspaces/fudan/data/MESDATA/SMT/S07/20180608-1/AOI-bad.json']\n"
     ]
    }
   ],
   "source": [
    "#!/user/bin/python  \n",
    "#!conding=utf8  \n",
    "  \n",
    "import os  \n",
    "result = []\n",
    "g = os.walk(\"/Users/apple/workspaces/fudan/data/MESDATA/SMT\")  \n",
    "for path,d,filelist in g:  \n",
    "    for filename in filelist:  \n",
    "        result.append(os.path.join(path, filename))\n",
    "print(result)      \n"
   ]
  },
  {
   "cell_type": "code",
   "execution_count": null,
   "metadata": {},
   "outputs": [],
   "source": []
  }
 ],
 "metadata": {
  "kernelspec": {
   "display_name": "Python 2",
   "language": "python",
   "name": "python2"
  },
  "language_info": {
   "codemirror_mode": {
    "name": "ipython",
    "version": 2
   },
   "file_extension": ".py",
   "mimetype": "text/x-python",
   "name": "python",
   "nbconvert_exporter": "python",
   "pygments_lexer": "ipython2",
   "version": "2.7.6"
  }
 },
 "nbformat": 4,
 "nbformat_minor": 0
}
